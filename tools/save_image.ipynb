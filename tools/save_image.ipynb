{
 "cells": [
  {
   "cell_type": "code",
   "execution_count": 8,
   "metadata": {
    "collapsed": false
   },
   "outputs": [],
   "source": [
    "import sys\n",
    "sys.path.insert(1, '/usr/local/lib64/python2.7/site-packages')\n",
    "sys.path.insert(1, '/usr/local/share/gwyddion/pygwy/')\n",
    "import gwy\n",
    "\n",
    "import numpy as np\n",
    "import gwyutils\n",
    "#import skimage.io"
   ]
  },
  {
   "cell_type": "code",
   "execution_count": 26,
   "metadata": {
    "collapsed": false
   },
   "outputs": [
    {
     "name": "stdout",
     "output_type": "stream",
     "text": [
      "Topography\n",
      "Topography\n",
      "('/2/data', '/2/data/title', '/2/data/log', '/0/data', '/0/data/title', '/3/data/title', '/3/data', '/4/data', '/3/data/log', '/4/data/log', '/4/data/title', '/5/data/title', '/5/data', '/6/data', '/0/meta', '/6/data/log', '/0/data/log', '/1/data', '/1/data/title', '/1/data/log', '/7/data/log', '/5/data/log', '/7/data/title', '/6/data/title', '/filename', '/7/data', '/0/data/visible')\n",
      "('ActGainXYZ', 'AproBurst', 'AproPeriod', 'BiasVoltage / BiasVolt.[mV]', 'Biasvolt[mV]', 'CHModeGainpreamp / CHModeGainpreamp', 'CHModeZoff / CHModeZoff', 'Chan(1,2,4) / Chan(1,2,4)', 'Channels / Channels', 'Channels', 'CurrentRC', 'Current[A]', 'D-DeltaX / D-DeltaX', 'DAC-Type', 'DAC5[V]', 'DSP_Clock', 'Dacto[A]xy', 'Dacto[A]z', 'Delay X+ / Delay X+', 'Delay X- / Delay X-', 'Delay Y / Delay Y', 'Delta X / Delta X [Dac]', 'Delta Y / Delta Y [Dac]', 'DigZoomX', 'DigZoomZ', 'FBIntegral', 'FBLogIset', 'FBLog', 'FBProp', 'FBVoltGain', 'FBVoltRC', 'FFTPoints', 'Frameimageoffset', 'GainX / GainX', 'GainY / GainY', 'GainZ / GainZ', 'Gainpreamp / GainPre 10^', 'HPIB_Address', 'HP_Ch1', 'HP_Ch2', 'HP_Ch3', 'HP_Ch4', 'Imagebackoffset', 'Imageframe', 'Imagegrayfactor', 'ImaxZret', 'Imaxcurrent', 'Imaxdelay', 'Latm0Delay', 'LatmResist', 'LatmanVolt', 'Latmanccdz', 'Latmanddx', 'Latmandelay', 'Latmanextension', 'Latmangain', 'Latmanlgi', 'Latmanmode', 'Length x[A]', 'Length y[A]', 'LockinAmpl', 'LockinFreq', 'LockinMode', 'LockinPhase2', 'LockinPhase', 'LockinRC', 'LockinRefAmpl', 'LockinRefPhase', 'MVolt_1 / MVolt_1', 'MVolt_2 / MVolt_2', 'MVolt_3 / MVolt_3', 'MVolt_4 / MVolt_4', 'MVolt_5 / MVolt_5', 'MVolt_6 / MVolt_6', 'Num.X / Num.X', 'Num.Y / Num.Y', 'OrgPlanOff', 'OrgPlanX', 'OrgPlanY', 'PlanDx / PlanDx', 'PlanDy / PlanDy', 'Planavrgnr', 'Plany2', 'Preamptype / Preamptype', 'RepeatRotinc / RepeatRotinc', 'RepeatXoffset / RepeatXoffset', 'RepeatYoffset / RepeatYoffset', 'Repeatcounter / Repeatcounter', 'Repeatinterval / Repeatinterval', 'RotBurst', 'RotCMode / RotCMode', 'Rotation / Rotation', 'Rotcount', 'Rotinc', 'Rotincquad', 'RptBVoltinc / RptBVoltinc', 'SBC_Clk[MHz]', 'SRS_Frequency', 'SRS_InpGain[V]', 'SRS_InpTimeC[s]', 'SRS_ModVoltage', 'Scancoarse / Scancoarse', 'Scandvinc[DAC]', 'Scanrotoffx / OffsetX', 'Scanrotoffy / OffsetY', 'Scantype / Scantype', 'Sec/Image:', 'Sec/line:', 'SpecAvrgnr', 'SpecFreq', 'SpecXGrid', 'SpecXYGridDelay', 'SpecYGrid', 'T-STM:', 'T_ADC2[K]', 'T_ADC3[K]', 'TipForm_Volt', 'TipForm_Z', 'Tip_Delay', 'Tip_Gain', 'Tip_LatDelay', 'Tip_Latddx', 'Titel / Titel', 'Upcount', 'Upinc', 'UserPreampCode', 'VFBMode / VFBMode', 'VertAvrgdelay', 'VertFBLogiset', 'VertFBMode', 'VertLineCount', 'VertRepeatCounter', 'VertSpecAvrgnr', 'VertSpecBack', 'Vertmandelay', 'Vertmangain', 'VerttreshImax', 'VerttreshImin', 'Vpoint0.V', 'Vpoint0.t', 'Vpoint1.V', 'Vpoint1.t', 'Vpoint2.V', 'Vpoint2.t', 'Vpoint3.V', 'Vpoint3.t', 'X-Puls-Count', 'XYBurst', 'Xpiezoconst', 'Y-Puls-Count', 'YPiezoconst', 'Z-Puls-Count', 'ZPiezoconst', 'Zdrift', 'Zoffset', 'Zoom', 'Zpoint0.t', 'Zpoint0.z', 'Zpoint1.t', 'Zpoint1.z', 'Zpoint2.t', 'Zpoint2.z', 'Zpoint3.t', 'Zpoint3.z')\n",
      "47\n",
      "8\n",
      "[[  1.60486221e-09   1.63374424e-09   1.64786339e-09 ...,   1.28849030e-09\n",
      "    1.29432678e-09   1.29145145e-09]\n",
      " [  1.62773609e-09   1.64850712e-09   1.66417122e-09 ...,   1.29690170e-09\n",
      "    1.29462719e-09   1.28570080e-09]\n",
      " [  1.64567471e-09   1.65258408e-09   1.65567398e-09 ...,   1.29754543e-09\n",
      "    1.28947735e-09   1.26385689e-09]\n",
      " ..., \n",
      " [  1.42517567e-09   1.44453049e-09   1.47362709e-09 ...,   1.12047672e-09\n",
      "    1.15519524e-09   1.17927074e-09]\n",
      " [  1.44457340e-09   1.47598743e-09   1.49581432e-09 ...,   1.14493847e-09\n",
      "    1.17274761e-09   1.18939877e-09]\n",
      " [  1.47332668e-09   1.49753094e-09   1.50761604e-09 ...,   1.16708279e-09\n",
      "    1.18334770e-09   1.19321823e-09]]\n"
     ]
    }
   ],
   "source": [
    "data_path ='/home/jorghyq/Data/201607_I/F160730.003926.R.dat'\n",
    "c = gwy.gwy_app_file_load(data_path)\n",
    "#dfields = gwyutils.get_data_fields_dir(c)\n",
    "data = c['/0/data']\n",
    "meta = c['/0/meta']\n",
    "title = c['/4/data/title']\n",
    "print title\n",
    "channel = c['/0/data/title']\n",
    "print channel\n",
    "array = gwyutils.data_field_data_as_array(data)\n",
    "print c.keys_by_name()\n",
    "print meta.keys_by_name()\n",
    "print meta['Biasvolt[mV]']\n",
    "print meta['Channels / Channels']\n",
    "print array"
   ]
  },
  {
   "cell_type": "code",
   "execution_count": 3,
   "metadata": {
    "collapsed": false
   },
   "outputs": [
    {
     "data": {
      "text/plain": [
       "dtype('float64')"
      ]
     },
     "execution_count": 3,
     "metadata": {},
     "output_type": "execute_result"
    }
   ],
   "source": [
    "array.dtype"
   ]
  },
  {
   "cell_type": "code",
   "execution_count": 13,
   "metadata": {
    "collapsed": false
   },
   "outputs": [
    {
     "name": "stdout",
     "output_type": "stream",
     "text": [
      "[[-6.49736166 -7.11268091 -4.36813641 ..., -5.55341911 -3.74829555\n",
      "  -5.11492252]\n",
      " [-6.19998455 -6.46459866 -4.41258287 ..., -5.63133717 -4.85614681\n",
      "  -5.17203474]\n",
      " [-5.47238016 -5.84735775 -4.1970396  ..., -5.3273716  -5.5087018\n",
      "  -5.31955004]\n",
      " ..., \n",
      " [-5.49646473 -4.49451923 -3.85524178 ..., -4.36877346 -4.90596628\n",
      "  -4.57403851]\n",
      " [-4.62971687 -5.11021233 -6.61363983 ..., -4.99949837 -4.81503773\n",
      "  -5.60033512]\n",
      " [-4.48569012 -5.02195549 -7.42216492 ..., -5.45249319 -4.61635923\n",
      "  -5.22233677]]\n",
      "-0.468591928482\n",
      "-11.5749015808\n"
     ]
    }
   ],
   "source": [
    "print array\n",
    "print array.max()\n",
    "print array.min()"
   ]
  },
  {
   "cell_type": "code",
   "execution_count": 4,
   "metadata": {
    "collapsed": true
   },
   "outputs": [],
   "source": [
    "array2 = array * 1e9"
   ]
  },
  {
   "cell_type": "code",
   "execution_count": 5,
   "metadata": {
    "collapsed": false
   },
   "outputs": [
    {
     "name": "stdout",
     "output_type": "stream",
     "text": [
      "[[ -6.49736166e+09  -7.11268091e+09  -4.36813641e+09 ...,  -5.55341911e+09\n",
      "   -3.74829555e+09  -5.11492252e+09]\n",
      " [ -6.19998455e+09  -6.46459866e+09  -4.41258287e+09 ...,  -5.63133717e+09\n",
      "   -4.85614681e+09  -5.17203474e+09]\n",
      " [ -5.47238016e+09  -5.84735775e+09  -4.19703960e+09 ...,  -5.32737160e+09\n",
      "   -5.50870180e+09  -5.31955004e+09]\n",
      " ..., \n",
      " [ -5.49646473e+09  -4.49451923e+09  -3.85524178e+09 ...,  -4.36877346e+09\n",
      "   -4.90596628e+09  -4.57403851e+09]\n",
      " [ -4.62971687e+09  -5.11021233e+09  -6.61363983e+09 ...,  -4.99949837e+09\n",
      "   -4.81503773e+09  -5.60033512e+09]\n",
      " [ -4.48569012e+09  -5.02195549e+09  -7.42216492e+09 ...,  -5.45249319e+09\n",
      "   -4.61635923e+09  -5.22233677e+09]]\n"
     ]
    }
   ],
   "source": [
    "print array2"
   ]
  },
  {
   "cell_type": "code",
   "execution_count": 2,
   "metadata": {
    "collapsed": false
   },
   "outputs": [],
   "source": [
    "b = skimage.io.imread('/home/jorghyq/Project/GwyUtils/test/A150716.115105-00353.png')"
   ]
  },
  {
   "cell_type": "code",
   "execution_count": 3,
   "metadata": {
    "collapsed": false
   },
   "outputs": [
    {
     "name": "stdout",
     "output_type": "stream",
     "text": [
      "[[[196  53  45]\n",
      "  [205  78  39]\n",
      "  [217 110  32]\n",
      "  ..., \n",
      "  [204  75  40]\n",
      "  [210  91  36]\n",
      "  [208  87  37]]\n",
      "\n",
      " [[221 122  29]\n",
      "  [215 107  33]\n",
      "  [204  76  40]\n",
      "  ..., \n",
      "  [219 116  31]\n",
      "  [217 113  31]\n",
      "  [210  91  36]]\n",
      "\n",
      " [[173  47  53]\n",
      "  [169  47  54]\n",
      "  [178  47  51]\n",
      "  ..., \n",
      "  [173  47  53]\n",
      "  [170  47  53]\n",
      "  [183  46  49]]\n",
      "\n",
      " ..., \n",
      " [[178  47  51]\n",
      "  [177  47  51]\n",
      "  [167  47  54]\n",
      "  ..., \n",
      "  [214 103  34]\n",
      "  [207  84  38]\n",
      "  [208  86  37]]\n",
      "\n",
      " [[199  60  43]\n",
      "  [198  56  44]\n",
      "  [209  88  37]\n",
      "  ..., \n",
      "  [222 125  29]\n",
      "  [224 147  28]\n",
      "  [225 157  28]]\n",
      "\n",
      " [[205  78  39]\n",
      "  [199  60  43]\n",
      "  [198  58  44]\n",
      "  ..., \n",
      "  [224 147  28]\n",
      "  [222 127  28]\n",
      "  [222 126  28]]]\n"
     ]
    }
   ],
   "source": [
    "print b"
   ]
  },
  {
   "cell_type": "code",
   "execution_count": 44,
   "metadata": {
    "collapsed": false
   },
   "outputs": [
    {
     "name": "stdout",
     "output_type": "stream",
     "text": [
      "[[29961 31716 36009 ..., 35867 40982 41831]\n",
      " [26330 30154 33797 ..., 41779 38146 38667]\n",
      " [42525 42263 43535 ..., 45552 29275 24504]\n",
      " ..., \n",
      " [35531 35071 36865 ..., 42521 38800 36127]\n",
      " [46183 39645 35795 ..., 39351 39888 41060]\n",
      " [38118 37781 36911 ..., 41310 35254 37485]]\n",
      "int32\n",
      "uint16\n",
      "65535\n",
      "0\n"
     ]
    }
   ],
   "source": [
    "print b\n",
    "print b.dtype\n",
    "z = b.astype('uint16')\n",
    "print z.dtype\n",
    "print b.max()\n",
    "print b.min()\n",
    "skimage.io.imsave('test.png',z)"
   ]
  },
  {
   "cell_type": "code",
   "execution_count": 77,
   "metadata": {
    "collapsed": false
   },
   "outputs": [
    {
     "name": "stdout",
     "output_type": "stream",
     "text": [
      "int32\n",
      "[[ 29961.  31716.  36009. ...,  35867.  40982.  41831.]\n",
      " [ 26330.  30154.  33797. ...,  41779.  38146.  38667.]\n",
      " [ 42525.  42263.  43535. ...,  45552.  29275.  24504.]\n",
      " ..., \n",
      " [ 65535.  65535.  65535. ...,  65535.  65535.  65535.]\n",
      " [ 65535.  65535.  65535. ...,  65535.  65535.  65535.]\n",
      " [ 65535.  65535.  65535. ...,  65535.  65535.  65535.]]\n",
      "float64\n"
     ]
    }
   ],
   "source": [
    "from PIL import ImageFont\n",
    "from PIL import Image\n",
    "from PIL import ImageDraw\n",
    "import numpy as np\n",
    "\n",
    "img = Image.open(\"./test.png\")\n",
    "I = np.asarray(img)\n",
    "print I.dtype\n",
    "w,h = I.shape\n",
    "new = np.zeros((w+40,h))\n",
    "new[:,:] = 65535\n",
    "new[:w,:h] = I\n",
    "print new\n",
    "print new.dtype\n",
    "new = new.astype('int32')\n",
    "img = Image.fromarray(new)\n",
    "draw = ImageDraw.Draw(img)\n",
    "font = ImageFont.truetype(\"/usr/share/fonts/truetype/ubuntu-font-family/Ubuntu-B.ttf\",30)\n",
    "draw.rectangle([0,0,200,40],fill=65535)\n",
    "draw.text((0, w),\"Sample Text\",font=font,fill=0)\n",
    "\n",
    "img.save('sample-out.png')"
   ]
  },
  {
   "cell_type": "code",
   "execution_count": 78,
   "metadata": {
    "collapsed": false
   },
   "outputs": [],
   "source": [
    "from PIL import ImageFont\n",
    "from PIL import Image\n",
    "from PIL import ImageDraw\n",
    "import numpy as np\n",
    "\n",
    "img = Image.open(\"./test.png\")\n",
    "draw = ImageDraw.Draw(img)\n",
    "font = ImageFont.truetype(\"/usr/share/fonts/truetype/ubuntu-font-family/Ubuntu-B.ttf\",30)\n",
    "draw.rectangle([0,0,200,40],fill=65535)\n",
    "draw.text((0, 0),\"Sample Text\",font=font,fill=0)\n",
    "\n",
    "img.save('sample-out.png')"
   ]
  },
  {
   "cell_type": "code",
   "execution_count": 9,
   "metadata": {
    "collapsed": false
   },
   "outputs": [],
   "source": [
    "import matplotlib.pyplot as plt\n",
    "imgplot = plt.imshow(b)\n",
    "imgplot.set_cmap('gray')\n",
    "plt.show()"
   ]
  },
  {
   "cell_type": "code",
   "execution_count": 15,
   "metadata": {
    "collapsed": false,
    "scrolled": true
   },
   "outputs": [
    {
     "name": "stdout",
     "output_type": "stream",
     "text": [
      "1024 1024\n",
      "(1024, 1024)\n",
      "F\n"
     ]
    },
    {
     "ename": "ValueError",
     "evalue": "point operation not supported for this mode",
     "output_type": "error",
     "traceback": [
      "\u001b[1;31m---------------------------------------------------------------------------\u001b[0m",
      "\u001b[1;31mValueError\u001b[0m                                Traceback (most recent call last)",
      "\u001b[1;32m<ipython-input-15-7251bda8f023>\u001b[0m in \u001b[0;36m<module>\u001b[1;34m()\u001b[0m\n\u001b[0;32m      8\u001b[0m \u001b[1;32mprint\u001b[0m \u001b[0mim\u001b[0m\u001b[1;33m.\u001b[0m\u001b[0mmode\u001b[0m\u001b[1;33m\u001b[0m\u001b[0m\n\u001b[0;32m      9\u001b[0m \u001b[0mtable\u001b[0m\u001b[1;33m=\u001b[0m\u001b[1;33m[\u001b[0m \u001b[0mi\u001b[0m\u001b[1;33m/\u001b[0m\u001b[1;36m256\u001b[0m \u001b[1;32mfor\u001b[0m \u001b[0mi\u001b[0m \u001b[1;32min\u001b[0m \u001b[0mrange\u001b[0m\u001b[1;33m(\u001b[0m\u001b[1;36m65536\u001b[0m\u001b[1;33m)\u001b[0m \u001b[1;33m]\u001b[0m\u001b[1;33m\u001b[0m\u001b[0m\n\u001b[1;32m---> 10\u001b[1;33m \u001b[0mim2\u001b[0m \u001b[1;33m=\u001b[0m \u001b[0mim\u001b[0m\u001b[1;33m.\u001b[0m\u001b[0mpoint\u001b[0m\u001b[1;33m(\u001b[0m\u001b[0mtable\u001b[0m\u001b[1;33m,\u001b[0m\u001b[1;34m'L'\u001b[0m\u001b[1;33m)\u001b[0m\u001b[1;33m\u001b[0m\u001b[0m\n\u001b[0m\u001b[0;32m     11\u001b[0m \u001b[0mim2\u001b[0m\u001b[1;33m.\u001b[0m\u001b[0msave\u001b[0m\u001b[1;33m(\u001b[0m\u001b[1;34m'test_16bit.png'\u001b[0m\u001b[1;33m)\u001b[0m\u001b[1;33m\u001b[0m\u001b[0m\n",
      "\u001b[1;32m/usr/lib/python2.7/dist-packages/PIL/Image.pyc\u001b[0m in \u001b[0;36mpoint\u001b[1;34m(self, lut, mode)\u001b[0m\n\u001b[0;32m   1163\u001b[0m         \u001b[1;32mif\u001b[0m \u001b[0mself\u001b[0m\u001b[1;33m.\u001b[0m\u001b[0mmode\u001b[0m \u001b[1;33m==\u001b[0m \u001b[1;34m\"F\"\u001b[0m\u001b[1;33m:\u001b[0m\u001b[1;33m\u001b[0m\u001b[0m\n\u001b[0;32m   1164\u001b[0m             \u001b[1;31m# FIXME: _imaging returns a confusing error message for this case\u001b[0m\u001b[1;33m\u001b[0m\u001b[1;33m\u001b[0m\u001b[0m\n\u001b[1;32m-> 1165\u001b[1;33m             \u001b[1;32mraise\u001b[0m \u001b[0mValueError\u001b[0m\u001b[1;33m(\u001b[0m\u001b[1;34m\"point operation not supported for this mode\"\u001b[0m\u001b[1;33m)\u001b[0m\u001b[1;33m\u001b[0m\u001b[0m\n\u001b[0m\u001b[0;32m   1166\u001b[0m \u001b[1;33m\u001b[0m\u001b[0m\n\u001b[0;32m   1167\u001b[0m         \u001b[1;32mreturn\u001b[0m \u001b[0mself\u001b[0m\u001b[1;33m.\u001b[0m\u001b[0m_new\u001b[0m\u001b[1;33m(\u001b[0m\u001b[0mself\u001b[0m\u001b[1;33m.\u001b[0m\u001b[0mim\u001b[0m\u001b[1;33m.\u001b[0m\u001b[0mpoint\u001b[0m\u001b[1;33m(\u001b[0m\u001b[0mlut\u001b[0m\u001b[1;33m,\u001b[0m \u001b[0mmode\u001b[0m\u001b[1;33m)\u001b[0m\u001b[1;33m)\u001b[0m\u001b[1;33m\u001b[0m\u001b[0m\n",
      "\u001b[1;31mValueError\u001b[0m: point operation not supported for this mode"
     ]
    }
   ],
   "source": [
    "import Image\n",
    "#print Image.__version__\n",
    "h,w = array.shape\n",
    "print h,w\n",
    "im = Image.fromarray(array2)\n",
    "#im.point()\n",
    "print im.size\n",
    "print im.mode\n",
    "table=[ i/256 for i in range(65536) ]\n",
    "im2 = im.point(table,'L')\n",
    "im2.save('test_16bit.png')"
   ]
  },
  {
   "cell_type": "code",
   "execution_count": 39,
   "metadata": {
    "collapsed": false
   },
   "outputs": [
    {
     "name": "stdout",
     "output_type": "stream",
     "text": [
      "int32\n"
     ]
    },
    {
     "ename": "TypeError",
     "evalue": "Cannot save image of this format to this file type",
     "output_type": "error",
     "traceback": [
      "\u001b[1;31m---------------------------------------------------------------------------\u001b[0m",
      "\u001b[1;31mTypeError\u001b[0m                                 Traceback (most recent call last)",
      "\u001b[1;32m<ipython-input-39-2866128c4e51>\u001b[0m in \u001b[0;36m<module>\u001b[1;34m()\u001b[0m\n\u001b[0;32m      9\u001b[0m \u001b[0mc\u001b[0m \u001b[1;33m=\u001b[0m \u001b[0mimg_as_uint\u001b[0m\u001b[1;33m(\u001b[0m\u001b[0mb\u001b[0m\u001b[1;33m)\u001b[0m\u001b[1;33m\u001b[0m\u001b[0m\n\u001b[0;32m     10\u001b[0m \u001b[1;32mprint\u001b[0m \u001b[0mb\u001b[0m\u001b[1;33m.\u001b[0m\u001b[0mdtype\u001b[0m\u001b[1;33m\u001b[0m\u001b[0m\n\u001b[1;32m---> 11\u001b[1;33m \u001b[0mio\u001b[0m\u001b[1;33m.\u001b[0m\u001b[0mimsave\u001b[0m\u001b[1;33m(\u001b[0m\u001b[1;34m'test_16bit2.png'\u001b[0m\u001b[1;33m,\u001b[0m \u001b[0mb\u001b[0m\u001b[1;33m)\u001b[0m\u001b[1;33m\u001b[0m\u001b[0m\n\u001b[0m\u001b[0;32m     12\u001b[0m \u001b[1;31m#plt.imshow(array4)\u001b[0m\u001b[1;33m\u001b[0m\u001b[1;33m\u001b[0m\u001b[0m\n\u001b[0;32m     13\u001b[0m \u001b[1;32mprint\u001b[0m \u001b[0mb\u001b[0m\u001b[1;33m\u001b[0m\u001b[0m\n",
      "\u001b[1;32m/usr/local/lib/python2.7/dist-packages/skimage/io/_io.pyc\u001b[0m in \u001b[0;36mimsave\u001b[1;34m(fname, arr, plugin, **plugin_args)\u001b[0m\n\u001b[0;32m    158\u001b[0m     \u001b[1;32mif\u001b[0m \u001b[0mis_low_contrast\u001b[0m\u001b[1;33m(\u001b[0m\u001b[0marr\u001b[0m\u001b[1;33m)\u001b[0m\u001b[1;33m:\u001b[0m\u001b[1;33m\u001b[0m\u001b[0m\n\u001b[0;32m    159\u001b[0m         \u001b[0mwarnings\u001b[0m\u001b[1;33m.\u001b[0m\u001b[0mwarn\u001b[0m\u001b[1;33m(\u001b[0m\u001b[1;34m'%s is a low contrast image'\u001b[0m \u001b[1;33m%\u001b[0m \u001b[0mfname\u001b[0m\u001b[1;33m)\u001b[0m\u001b[1;33m\u001b[0m\u001b[0m\n\u001b[1;32m--> 160\u001b[1;33m     \u001b[1;32mreturn\u001b[0m \u001b[0mcall_plugin\u001b[0m\u001b[1;33m(\u001b[0m\u001b[1;34m'imsave'\u001b[0m\u001b[1;33m,\u001b[0m \u001b[0mfname\u001b[0m\u001b[1;33m,\u001b[0m \u001b[0marr\u001b[0m\u001b[1;33m,\u001b[0m \u001b[0mplugin\u001b[0m\u001b[1;33m=\u001b[0m\u001b[0mplugin\u001b[0m\u001b[1;33m,\u001b[0m \u001b[1;33m**\u001b[0m\u001b[0mplugin_args\u001b[0m\u001b[1;33m)\u001b[0m\u001b[1;33m\u001b[0m\u001b[0m\n\u001b[0m\u001b[0;32m    161\u001b[0m \u001b[1;33m\u001b[0m\u001b[0m\n\u001b[0;32m    162\u001b[0m \u001b[1;33m\u001b[0m\u001b[0m\n",
      "\u001b[1;32m/usr/local/lib/python2.7/dist-packages/skimage/io/manage_plugins.pyc\u001b[0m in \u001b[0;36mcall_plugin\u001b[1;34m(kind, *args, **kwargs)\u001b[0m\n\u001b[0;32m    205\u001b[0m                                (plugin, kind))\n\u001b[0;32m    206\u001b[0m \u001b[1;33m\u001b[0m\u001b[0m\n\u001b[1;32m--> 207\u001b[1;33m     \u001b[1;32mreturn\u001b[0m \u001b[0mfunc\u001b[0m\u001b[1;33m(\u001b[0m\u001b[1;33m*\u001b[0m\u001b[0margs\u001b[0m\u001b[1;33m,\u001b[0m \u001b[1;33m**\u001b[0m\u001b[0mkwargs\u001b[0m\u001b[1;33m)\u001b[0m\u001b[1;33m\u001b[0m\u001b[0m\n\u001b[0m\u001b[0;32m    208\u001b[0m \u001b[1;33m\u001b[0m\u001b[0m\n\u001b[0;32m    209\u001b[0m \u001b[1;33m\u001b[0m\u001b[0m\n",
      "\u001b[1;32m/usr/local/lib/python2.7/dist-packages/skimage/io/_plugins/freeimage_plugin.pyc\u001b[0m in \u001b[0;36mimsave\u001b[1;34m(filename, img)\u001b[0m\n\u001b[0;32m    739\u001b[0m       \u001b[0mimg\u001b[0m \u001b[1;33m:\u001b[0m \u001b[0mimage\u001b[0m \u001b[0mto\u001b[0m \u001b[0mbe\u001b[0m \u001b[0msaved\u001b[0m \u001b[1;32mas\u001b[0m \u001b[0mnd\u001b[0m \u001b[0marray\u001b[0m\u001b[1;33m\u001b[0m\u001b[0m\n\u001b[0;32m    740\u001b[0m     '''\n\u001b[1;32m--> 741\u001b[1;33m     \u001b[0mwrite\u001b[0m\u001b[1;33m(\u001b[0m\u001b[0mimg\u001b[0m\u001b[1;33m,\u001b[0m \u001b[0mfilename\u001b[0m\u001b[1;33m)\u001b[0m\u001b[1;33m\u001b[0m\u001b[0m\n\u001b[0m",
      "\u001b[1;32m/usr/local/lib/python2.7/dist-packages/skimage/io/_plugins/freeimage_plugin.pyc\u001b[0m in \u001b[0;36mwrite\u001b[1;34m(array, filename, flags)\u001b[0m\n\u001b[0;32m    600\u001b[0m             \u001b[0mhandle_errors\u001b[0m\u001b[1;33m(\u001b[0m\u001b[1;33m)\u001b[0m\u001b[1;33m\u001b[0m\u001b[0m\n\u001b[0;32m    601\u001b[0m         \u001b[1;32mif\u001b[0m \u001b[1;32mnot\u001b[0m \u001b[0mcan_write\u001b[0m\u001b[1;33m:\u001b[0m\u001b[1;33m\u001b[0m\u001b[0m\n\u001b[1;32m--> 602\u001b[1;33m             raise TypeError('Cannot save image of this format '\n\u001b[0m\u001b[0;32m    603\u001b[0m                             'to this file type')\n\u001b[0;32m    604\u001b[0m         \u001b[0mres\u001b[0m \u001b[1;33m=\u001b[0m \u001b[0m_FI\u001b[0m\u001b[1;33m.\u001b[0m\u001b[0mFreeImage_Save\u001b[0m\u001b[1;33m(\u001b[0m\u001b[0mftype\u001b[0m\u001b[1;33m,\u001b[0m \u001b[0mbitmap\u001b[0m\u001b[1;33m,\u001b[0m \u001b[0mfilename\u001b[0m\u001b[1;33m,\u001b[0m \u001b[0mflags\u001b[0m\u001b[1;33m)\u001b[0m\u001b[1;33m\u001b[0m\u001b[0m\n",
      "\u001b[1;31mTypeError\u001b[0m: Cannot save image of this format to this file type"
     ]
    }
   ],
   "source": [
    "import numpy as np\n",
    "from skimage import io, exposure, img_as_uint, img_as_float\n",
    "\n",
    "\n",
    "\n",
    "\n",
    "array4 = exposure.rescale_intensity(-array, out_range='float')\n",
    "array4 = img_as_uint(array4)\n",
    "c = img_as_uint(b)\n",
    "print b.dtype\n",
    "io.imsave('test_16bit2.png', b)\n",
    "#plt.imshow(array4)\n",
    "print b\n",
    "print c\n",
    "print np.transpose(array4)\n",
    "#print array4\n",
    "print array4.max()\n",
    "print array4.min()"
   ]
  },
  {
   "cell_type": "code",
   "execution_count": 18,
   "metadata": {
    "collapsed": false
   },
   "outputs": [
    {
     "data": {
      "text/plain": [
       "array([[65535, 21845],\n",
       "       [    0,     0]], dtype=uint16)"
      ]
     },
     "execution_count": 18,
     "metadata": {},
     "output_type": "execute_result"
    }
   ],
   "source": [
    "import numpy as np\n",
    "from skimage import io, exposure, img_as_uint, img_as_float\n",
    "io.use_plugin('freeimage')\n",
    "#im = np.array([[1., 2.], [3., 4.]], dtype='float64')\n",
    "im = np.array([[1., 2.], [3., 4.]], dtype='float64')\n",
    "im = exposure.rescale_intensity(-im, out_range='float')\n",
    "im = img_as_uint(im)\n",
    "im"
   ]
  },
  {
   "cell_type": "code",
   "execution_count": null,
   "metadata": {
    "collapsed": true
   },
   "outputs": [],
   "source": []
  }
 ],
 "metadata": {
  "kernelspec": {
   "display_name": "Python 2",
   "language": "python",
   "name": "python2"
  },
  "language_info": {
   "codemirror_mode": {
    "name": "ipython",
    "version": 2
   },
   "file_extension": ".py",
   "mimetype": "text/x-python",
   "name": "python",
   "nbconvert_exporter": "python",
   "pygments_lexer": "ipython2",
   "version": "2.7.5"
  }
 },
 "nbformat": 4,
 "nbformat_minor": 0
}

{
 "cells": [
  {
   "cell_type": "code",
   "execution_count": 1,
   "metadata": {
    "collapsed": true
   },
   "outputs": [],
   "source": [
    "import gwy\n",
    "import sys\n",
    "import numpy as np\n",
    "sys.path.insert(1, '/usr/share/gwyddion/pygwy/')\n",
    "import gwyutils\n",
    "import skimage.io"
   ]
  },
  {
   "cell_type": "code",
   "execution_count": 2,
   "metadata": {
    "collapsed": false
   },
   "outputs": [
    {
     "name": "stdout",
     "output_type": "stream",
     "text": [
      "('/7/meta', '/8/data', '/8/data/title', '/8/meta', '/9/data', '/9/data/title', '/9/meta', '/1/select/pointer', '/2/select/pointer', '/0/select/pointer', '/6/select/pointer', '/3/select/pointer', '/6/data/visible', '/0/data', '/0/data/title', '/4/select/pointer', '/5/select/pointer', '/9/select/pointer', '/7/select/pointer', '/8/select/pointer', '/0/meta', '/1/data', '/1/data/title', '/1/meta', '/2/data', '/2/data/title', '/2/meta', '/3/data', '/3/data/title', '/3/meta', '/4/data', '/4/data/title', '/4/meta', '/5/data', '/5/data/title', '/filename', '/5/meta', '/6/data', '/6/data/title', '/6/meta', '/7/data', '/7/data/title')\n"
     ]
    }
   ],
   "source": [
    "data_path ='/home/jorghyq/Project/GwyUtils/test/A150716.115105-00353.gwy'\n",
    "c = gwy.gwy_app_file_load(data_path)\n",
    "#dfields = gwyutils.get_data_fields_dir(c)\n",
    "data = c['/6/data']\n",
    "\n",
    "channel = c['/0/data/title']\n",
    "print c.keys_by_name()\n"
   ]
  },
  {
   "cell_type": "code",
   "execution_count": 3,
   "metadata": {
    "collapsed": false
   },
   "outputs": [
    {
     "name": "stdout",
     "output_type": "stream",
     "text": [
      "<__main__.GwySelectionPoint object at 0x7fdb80ed9c80 (GwySelectionPoint at 0x1b42580)>\n"
     ]
    }
   ],
   "source": [
    "f = c['/6/select/pointer']\n",
    "addr = "
   ]
  },
  {
   "cell_type": "code",
   "execution_count": 15,
   "metadata": {
    "collapsed": false
   },
   "outputs": [
    {
     "name": "stdout",
     "output_type": "stream",
     "text": [
      "140580594597904\n"
     ]
    }
   ],
   "source": [
    "addr = data.get_data_pointer()\n",
    "print addr"
   ]
  },
  {
   "cell_type": "code",
   "execution_count": 8,
   "metadata": {
    "collapsed": false
   },
   "outputs": [
    {
     "name": "stdout",
     "output_type": "stream",
     "text": [
      "(1048576,)\n"
     ]
    }
   ],
   "source": [
    "test =np.array(addr)\n",
    "print test.shape"
   ]
  },
  {
   "cell_type": "code",
   "execution_count": 10,
   "metadata": {
    "collapsed": false
   },
   "outputs": [],
   "source": [
    "test=test.reshape(1024,1024)\n"
   ]
  },
  {
   "cell_type": "code",
   "execution_count": 13,
   "metadata": {
    "collapsed": false
   },
   "outputs": [
    {
     "name": "stdout",
     "output_type": "stream",
     "text": [
      "[[-6.49736166 -7.11268091 -4.36813641 ..., -5.55341911 -3.74829555\n",
      "  -5.11492252]\n",
      " [-6.19998455 -6.46459866 -4.41258287 ..., -5.63133717 -4.85614681\n",
      "  -5.17203474]\n",
      " [-5.47238016 -5.84735775 -4.1970396  ..., -5.3273716  -5.5087018\n",
      "  -5.31955004]\n",
      " ..., \n",
      " [-5.49646473 -4.49451923 -3.85524178 ..., -4.36877346 -4.90596628\n",
      "  -4.57403851]\n",
      " [-4.62971687 -5.11021233 -6.61363983 ..., -4.99949837 -4.81503773\n",
      "  -5.60033512]\n",
      " [-4.48569012 -5.02195549 -7.42216492 ..., -5.45249319 -4.61635923\n",
      "  -5.22233677]]\n"
     ]
    }
   ],
   "source": [
    "print np.transpose(test)"
   ]
  },
  {
   "cell_type": "code",
   "execution_count": 12,
   "metadata": {
    "collapsed": false
   },
   "outputs": [
    {
     "name": "stdout",
     "output_type": "stream",
     "text": [
      "[[-6.49736166 -7.11268091 -4.36813641 ..., -5.55341911 -3.74829555\n",
      "  -5.11492252]\n",
      " [-6.19998455 -6.46459866 -4.41258287 ..., -5.63133717 -4.85614681\n",
      "  -5.17203474]\n",
      " [-5.47238016 -5.84735775 -4.1970396  ..., -5.3273716  -5.5087018\n",
      "  -5.31955004]\n",
      " ..., \n",
      " [-5.49646473 -4.49451923 -3.85524178 ..., -4.36877346 -4.90596628\n",
      "  -4.57403851]\n",
      " [-4.62971687 -5.11021233 -6.61363983 ..., -4.99949837 -4.81503773\n",
      "  -5.60033512]\n",
      " [-4.48569012 -5.02195549 -7.42216492 ..., -5.45249319 -4.61635923\n",
      "  -5.22233677]]\n"
     ]
    }
   ],
   "source": [
    "array = gwyutils.data_field_data_as_array(data)\n",
    "print array"
   ]
  },
  {
   "cell_type": "code",
   "execution_count": 2,
   "metadata": {
    "collapsed": false
   },
   "outputs": [
    {
     "name": "stdout",
     "output_type": "stream",
     "text": [
      "Z (Forward)\n"
     ]
    }
   ],
   "source": [
    "data_path ='/home/jorghyq/Project/GwyUtils/test/A150716.115105-00353.gwy'\n",
    "c = gwy.gwy_app_file_load(data_path)\n",
    "#dfields = gwyutils.get_data_fields_dir(c)\n",
    "data = c['/6/data']\n",
    "\n",
    "channel = c['/0/data/title']\n",
    "print channel\n",
    "array = gwyutils.data_field_data_as_array(data)\n",
    "print array"
   ]
  },
  {
   "cell_type": "code",
   "execution_count": 13,
   "metadata": {
    "collapsed": true
   },
   "outputs": [],
   "source": [
    "c.set_string_by_name(\"/6/base/palette\", \"Warm\")"
   ]
  },
  {
   "cell_type": "code",
   "execution_count": 17,
   "metadata": {
    "collapsed": false
   },
   "outputs": [
    {
     "name": "stdout",
     "output_type": "stream",
     "text": [
      "(1024, 1024)\n"
     ]
    }
   ],
   "source": [
    "array = gwyutils.data_field_data_as_array(data)\n",
    "print array.shape"
   ]
  },
  {
   "cell_type": "code",
   "execution_count": 12,
   "metadata": {
    "collapsed": false
   },
   "outputs": [
    {
     "name": "stdout",
     "output_type": "stream",
     "text": [
      "[[116 102 165 ..., 138 179 148]\n",
      " [123 117 164 ..., 136 154 147]\n",
      " [140 131 169 ..., 143 139 143]\n",
      " ..., \n",
      " [139 162 177 ..., 165 153 160]\n",
      " [159 148 113 ..., 150 155 137]\n",
      " [162 150  95 ..., 140 159 145]]\n"
     ]
    }
   ],
   "source": [
    "import numpy as np\n",
    "from skimage import io, exposure, img_as_uint, img_as_float\n",
    "\n",
    "array4 = exposure.rescale_intensity(array, out_range='uint8')\n",
    "array4 = array4.astype('uint8')\n",
    "print array4\n",
    "#array4 = img_as_uint(array4)\n",
    "#print b.dtype\n",
    "io.imsave('test_16bit2.png', np.transpose(array4))"
   ]
  },
  {
   "cell_type": "code",
   "execution_count": 17,
   "metadata": {
    "collapsed": false
   },
   "outputs": [
    {
     "name": "stdout",
     "output_type": "stream",
     "text": [
      "[[116 102 165 ..., 138 179 148]\n",
      " [123 117 164 ..., 136 154 147]\n",
      " [140 131 169 ..., 143 139 143]\n",
      " ..., \n",
      " [139 162 177 ..., 165 153 160]\n",
      " [159 148 113 ..., 150 155 137]\n",
      " [162 150  95 ..., 140 159 145]]\n"
     ]
    }
   ],
   "source": [
    "high = 255\n",
    "low = 0\n",
    "amin = array.min()\n",
    "amax = array.max()\n",
    "rng = amax - amin\n",
    "test = high - (((high - low) * (amax - array)) / rng)\n",
    "print test.astype('uint8')"
   ]
  },
  {
   "cell_type": "code",
   "execution_count": null,
   "metadata": {
    "collapsed": true
   },
   "outputs": [],
   "source": []
  }
 ],
 "metadata": {
  "kernelspec": {
   "display_name": "Python 2",
   "language": "python",
   "name": "python2"
  },
  "language_info": {
   "codemirror_mode": {
    "name": "ipython",
    "version": 2
   },
   "file_extension": ".py",
   "mimetype": "text/x-python",
   "name": "python",
   "nbconvert_exporter": "python",
   "pygments_lexer": "ipython2",
   "version": "2.7.6"
  }
 },
 "nbformat": 4,
 "nbformat_minor": 0
}

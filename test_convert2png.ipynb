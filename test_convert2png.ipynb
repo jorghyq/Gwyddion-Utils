{
 "cells": [
  {
   "cell_type": "code",
   "execution_count": 1,
   "metadata": {
    "collapsed": false
   },
   "outputs": [],
   "source": [
    "import gwy\n",
    "import re\n",
    "import os\n",
    "import sys\n",
    "import matplotlib.pyplot as plt\n",
    "import matplotlib as mlp\n",
    "import numpy as np\n",
    "import re\n",
    "sys.path.insert(1, './scripts/')\n",
    "from convert_sxm2png_text import save2png_text"
   ]
  },
  {
   "cell_type": "code",
   "execution_count": 2,
   "metadata": {
    "collapsed": false
   },
   "outputs": [
    {
     "name": "stdout",
     "output_type": "stream",
     "text": [
      "['A150113.112548-01211.sxm', 'A150113.114326-01214.sxm', 'A150113.095251-01205.sxm', 'A150113.103549-01209.sxm', 'A150112.170351-01199.sxm', 'A150113.113915-01213.sxm', 'A150112.171504-01200.sxm', 'A150113.133733-01219.sxm', 'A150113.091850-01201.sxm', 'A150112.164837-01196.sxm', 'A150112.163633-01194.sxm', 'A150113.093828-01203.sxm', 'A150113.114823-01216.sxm', 'A150112.165918-01198.sxm', 'A150113.112228-01210.sxm', 'overview', 'A150113.113429-01212.sxm', 'A150113.101210-01207.sxm', 'A150112.165243-01197.sxm', 'A150113.114552-01215.sxm', 'A150113.092845-01202.sxm', 'A150113.094810-01204.sxm', 'A150113.131105-01217.sxm', 'A150113.133726-01218.sxm', 'A150113.100257-01206.sxm', 'A150112.164423-01195.sxm', 'A150113.102604-01208.sxm'] 27\n"
     ]
    }
   ],
   "source": [
    "ROOT = '/home/jorghyq/Project/GwyUtils/test/'\n",
    "files = os.listdir(ROOT)\n",
    "print files, len(files)"
   ]
  },
  {
   "cell_type": "code",
   "execution_count": 3,
   "metadata": {
    "collapsed": false
   },
   "outputs": [
    {
     "name": "stdout",
     "output_type": "stream",
     "text": [
      "['A150113.112548-01211.sxm', 'A150113.114326-01214.sxm', 'A150113.095251-01205.sxm', 'A150113.103549-01209.sxm', 'A150112.170351-01199.sxm', 'A150113.113915-01213.sxm', 'A150112.171504-01200.sxm', 'A150113.133733-01219.sxm', 'A150113.091850-01201.sxm', 'A150112.164837-01196.sxm', 'A150112.163633-01194.sxm', 'A150113.093828-01203.sxm', 'A150113.114823-01216.sxm', 'A150112.165918-01198.sxm', 'A150113.112228-01210.sxm', 'A150113.113429-01212.sxm', 'A150113.101210-01207.sxm', 'A150112.165243-01197.sxm', 'A150113.114552-01215.sxm', 'A150113.092845-01202.sxm', 'A150113.094810-01204.sxm', 'A150113.131105-01217.sxm', 'A150113.133726-01218.sxm', 'A150113.100257-01206.sxm', 'A150112.164423-01195.sxm', 'A150113.102604-01208.sxm'] 26\n"
     ]
    }
   ],
   "source": [
    "files = [f for f in os.listdir(ROOT) if os.path.isfile(ROOT + f) and f[-3:] == 'sxm']\n",
    "print files, len(files)"
   ]
  },
  {
   "cell_type": "code",
   "execution_count": 6,
   "metadata": {
    "collapsed": false
   },
   "outputs": [
    {
     "name": "stdout",
     "output_type": "stream",
     "text": [
      "/home/jorghyq/Project/GwyUtils/test/A150113.112548-01211.sxm is done\n",
      "/home/jorghyq/Project/GwyUtils/test/A150113.114326-01214.sxm is done\n",
      "/home/jorghyq/Project/GwyUtils/test/A150113.095251-01205.sxm is done\n",
      "/home/jorghyq/Project/GwyUtils/test/A150113.103549-01209.sxm is done\n",
      "/home/jorghyq/Project/GwyUtils/test/A150112.170351-01199.sxm is done\n",
      "/home/jorghyq/Project/GwyUtils/test/A150113.113915-01213.sxm is done\n",
      "/home/jorghyq/Project/GwyUtils/test/A150112.171504-01200.sxm is done\n",
      "/home/jorghyq/Project/GwyUtils/test/A150113.133733-01219.sxm is done\n",
      "/home/jorghyq/Project/GwyUtils/test/A150113.091850-01201.sxm is done\n",
      "/home/jorghyq/Project/GwyUtils/test/A150112.164837-01196.sxm is done\n",
      "/home/jorghyq/Project/GwyUtils/test/A150112.163633-01194.sxm is done\n",
      "/home/jorghyq/Project/GwyUtils/test/A150113.093828-01203.sxm is done\n",
      "/home/jorghyq/Project/GwyUtils/test/A150113.114823-01216.sxm is done\n",
      "/home/jorghyq/Project/GwyUtils/test/A150112.165918-01198.sxm is done\n",
      "/home/jorghyq/Project/GwyUtils/test/A150113.112228-01210.sxm is done\n",
      "/home/jorghyq/Project/GwyUtils/test/A150113.113429-01212.sxm is done\n",
      "/home/jorghyq/Project/GwyUtils/test/A150113.101210-01207.sxm is done\n",
      "/home/jorghyq/Project/GwyUtils/test/A150112.165243-01197.sxm is done\n",
      "/home/jorghyq/Project/GwyUtils/test/A150113.114552-01215.sxm is done\n",
      "/home/jorghyq/Project/GwyUtils/test/A150113.092845-01202.sxm is done\n",
      "/home/jorghyq/Project/GwyUtils/test/A150113.094810-01204.sxm is done\n",
      "/home/jorghyq/Project/GwyUtils/test/A150113.131105-01217.sxm is done\n",
      "/home/jorghyq/Project/GwyUtils/test/A150113.133726-01218.sxm is done\n",
      "/home/jorghyq/Project/GwyUtils/test/A150113.100257-01206.sxm is done\n",
      "/home/jorghyq/Project/GwyUtils/test/A150112.164423-01195.sxm is done\n",
      "/home/jorghyq/Project/GwyUtils/test/A150113.102604-01208.sxm is done\n"
     ]
    }
   ],
   "source": [
    "for data in files:\n",
    "    data_path = ROOT + data\n",
    "    save2png_text(data_path)\n",
    "    print data_path,'is done'\n",
    "    "
   ]
  },
  {
   "cell_type": "code",
   "execution_count": 3,
   "metadata": {
    "collapsed": true
   },
   "outputs": [],
   "source": [
    "data_path = ROOT + files[0]\n",
    "c = gwy.gwy_file_load(data_path, gwy.RUN_NONINTERACTIVE)"
   ]
  },
  {
   "cell_type": "code",
   "execution_count": 6,
   "metadata": {
    "collapsed": false
   },
   "outputs": [
    {
     "name": "stdout",
     "output_type": "stream",
     "text": [
      "('/0/meta', '/0/data/log', '/1/mask', '/1/data', '/1/data/title', '/1/meta', '/1/data/log', '/2/mask', '/2/data', '/2/data/title', '/2/meta', '/2/data/log', '/3/mask', '/3/data', '/3/data/title', '/3/meta', '/3/data/log', '/4/mask', '/4/data', '/4/data/title', '/4/meta', '/4/data/log', '/0/data', '/0/mask', '/5/data', '/0/data/title', '/5/meta', '/5/data/title', '/5/mask', '/5/data/log', '/6/mask', '/6/data/title', '/6/data', '/6/data/log', '/6/meta', '/7/data', '/7/mask', '/7/meta', '/7/data/title', '/7/data/log')\n",
      "Z (Backward)\n"
     ]
    }
   ],
   "source": [
    "keys = c.keys_by_name()\n",
    "print keys\n",
    "print c['/1/data/title']\n",
    "#meta = c['/0/meta']\n",
    "#print meta.keys_by_name()\n",
    "#name = meta['File name']"
   ]
  },
  {
   "cell_type": "code",
   "execution_count": 8,
   "metadata": {
    "collapsed": false
   },
   "outputs": [
    {
     "name": "stdout",
     "output_type": "stream",
     "text": [
      "8\n"
     ]
    }
   ],
   "source": [
    "count = 0\n",
    "for item in keys:\n",
    "    if re.search(r'title',item):\n",
    "        count = count + 1\n",
    "print count\n",
    "    "
   ]
  },
  {
   "cell_type": "code",
   "execution_count": 9,
   "metadata": {
    "collapsed": false
   },
   "outputs": [
    {
     "name": "stdout",
     "output_type": "stream",
     "text": [
      "Current (Forward)\n"
     ]
    }
   ],
   "source": [
    "print c['/2/data/title']"
   ]
  },
  {
   "cell_type": "code",
   "execution_count": 25,
   "metadata": {
    "collapsed": false
   },
   "outputs": [
    {
     "name": "stdout",
     "output_type": "stream",
     "text": [
      "A150113.112548-01211.sxm\n"
     ]
    }
   ],
   "source": [
    "basename = name.split('\\\\')[-1]\n",
    "print basename"
   ]
  },
  {
   "cell_type": "code",
   "execution_count": 16,
   "metadata": {
    "collapsed": false
   },
   "outputs": [
    {
     "name": "stdout",
     "output_type": "stream",
     "text": [
      "C:\\AFM\\_data\\201411\\A150113.112548-01211.sxm\n"
     ]
    }
   ],
   "source": []
  },
  {
   "cell_type": "code",
   "execution_count": null,
   "metadata": {
    "collapsed": true
   },
   "outputs": [],
   "source": []
  }
 ],
 "metadata": {
  "kernelspec": {
   "display_name": "Python 2",
   "language": "python",
   "name": "python2"
  },
  "language_info": {
   "codemirror_mode": {
    "name": "ipython",
    "version": 2
   },
   "file_extension": ".py",
   "mimetype": "text/x-python",
   "name": "python",
   "nbconvert_exporter": "python",
   "pygments_lexer": "ipython2",
   "version": "2.7.6"
  }
 },
 "nbformat": 4,
 "nbformat_minor": 0
}

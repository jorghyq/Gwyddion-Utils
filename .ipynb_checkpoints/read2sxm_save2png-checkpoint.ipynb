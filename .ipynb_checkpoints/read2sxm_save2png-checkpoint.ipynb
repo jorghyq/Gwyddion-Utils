{
 "cells": [
  {
   "cell_type": "code",
   "execution_count": 1,
   "metadata": {
    "collapsed": true
   },
   "outputs": [],
   "source": [
    "import gwy\n",
    "import sys\n",
    "import numpy as np\n",
    "sys.path.insert(1, '/usr/share/gwyddion/pygwy/')\n",
    "import gwyutils"
   ]
  },
  {
   "cell_type": "code",
   "execution_count": 36,
   "metadata": {
    "collapsed": false
   },
   "outputs": [
    {
     "name": "stdout",
     "output_type": "stream",
     "text": [
      "None\n"
     ]
    }
   ],
   "source": [
    "# read from active window\n",
    "c = gwy.gwy_app_data_browser_get_current(gwy.APP_CONTAINER)\n",
    "d = gwy.gwy_app_data_browser_get_current(gwy.APP_DATA_FIELD)\n",
    "print d"
   ]
  },
  {
   "cell_type": "code",
   "execution_count": 2,
   "metadata": {
    "collapsed": true
   },
   "outputs": [],
   "source": [
    "# read from file\n",
    "# read the data into program\n",
    "data_path ='/home/jorghyq/Project/GwyUtils/test/A150716.115105-00353.gwy'\n",
    "c = gwy.gwy_app_file_load(data_path)\n",
    "#keys = c.keys_by_name()"
   ]
  },
  {
   "cell_type": "code",
   "execution_count": 3,
   "metadata": {
    "collapsed": false
   },
   "outputs": [
    {
     "name": "stdout",
     "output_type": "stream",
     "text": [
      "{'/5/data': <gwy.DataField object at 0x7f6518a77910 (GwyDataField at 0x1c827f0)>, '/9/data': <gwy.DataField object at 0x7f6518a77a00 (GwyDataField at 0x1c82df0)>, '/6/data': <gwy.DataField object at 0x7f6518a77960 (GwyDataField at 0x1c82970)>, '/3/data': <gwy.DataField object at 0x7f6518a77870 (GwyDataField at 0x1c824f0)>, '/1/data': <gwy.DataField object at 0x7f6518a77af0 (GwyDataField at 0x1c821f0)>, '/8/data': <gwy.DataField object at 0x7f6518a77aa0 (GwyDataField at 0x1c82c70)>, '/2/data': <gwy.DataField object at 0x7f6518a77820 (GwyDataField at 0x1c82370)>, '/0/data': <gwy.DataField object at 0x7f6518a77b40 (GwyDataField at 0x1c82070)>, '/4/data': <gwy.DataField object at 0x7f6518a778c0 (GwyDataField at 0x1c82670)>, '/7/data': <gwy.DataField object at 0x7f6518a779b0 (GwyDataField at 0x1c82af0)>}\n"
     ]
    }
   ],
   "source": [
    "dfields = gwyutils.get_data_fields_dir(c)\n",
    "print dfields"
   ]
  },
  {
   "cell_type": "code",
   "execution_count": 27,
   "metadata": {
    "collapsed": false
   },
   "outputs": [
    {
     "data": {
      "text/plain": [
       "''"
      ]
     },
     "execution_count": 27,
     "metadata": {},
     "output_type": "execute_result"
    }
   ],
   "source": [
    "c['/3/meta']['Comment']"
   ]
  },
  {
   "cell_type": "code",
   "execution_count": 10,
   "metadata": {
    "collapsed": false
   },
   "outputs": [
    {
     "name": "stdout",
     "output_type": "stream",
     "text": [
      "('/3/select/pointer', '/6/data/visible', '/0/data', '/0/data/title', '/4/select/pointer', '/5/select/pointer', '/9/select/pointer', '/7/select/pointer', '/8/select/pointer', '/0/meta', '/1/data', '/1/data/title', '/1/meta', '/2/data', '/2/data/title', '/2/meta', '/3/data', '/3/data/title', '/3/meta', '/4/data', '/4/data/title', '/4/meta', '/5/data', '/5/data/title', '/filename', '/5/meta', '/6/data', '/6/data/title', '/6/meta', '/7/data', '/7/data/title', '/7/meta', '/8/data', '/8/data/title', '/8/meta', '/9/data', '/9/data/title', '/9/meta', '/1/select/pointer', '/2/select/pointer', '/0/select/pointer', '/6/select/pointer')\n",
      "Current (Forward)\n"
     ]
    }
   ],
   "source": [
    "test = c.keys_by_name()\n",
    "print test\n",
    "print c['/2/data/title']"
   ]
  },
  {
   "cell_type": "code",
   "execution_count": 16,
   "metadata": {
    "collapsed": false
   },
   "outputs": [
    {
     "name": "stdout",
     "output_type": "stream",
     "text": [
      "<gwy.Container object at 0x7f2b00863f50 (GwyContainer at 0x30c2940)>\n"
     ]
    }
   ],
   "source": [
    "meta = c['/0/meta']\n",
    "print meta"
   ]
  },
  {
   "cell_type": "code",
   "execution_count": 17,
   "metadata": {
    "collapsed": false
   },
   "outputs": [
    {
     "name": "stdout",
     "output_type": "stream",
     "text": [
      "7.000E-11 A\n"
     ]
    }
   ],
   "source": [
    "print meta['Z controller Setpoint']"
   ]
  },
  {
   "cell_type": "code",
   "execution_count": 23,
   "metadata": {
    "collapsed": false
   },
   "outputs": [
    {
     "data": {
      "text/plain": [
       "'C:\\\\AFM\\\\_data\\\\201507\\\\A150716.115105-00353.sxm'"
      ]
     },
     "execution_count": 23,
     "metadata": {},
     "output_type": "execute_result"
    }
   ],
   "source": [
    "meta['File name']"
   ]
  },
  {
   "cell_type": "code",
   "execution_count": 31,
   "metadata": {
    "collapsed": false
   },
   "outputs": [
    {
     "name": "stdout",
     "output_type": "stream",
     "text": [
      "<gwy.Container object at 0x7f53580b7500 (GwyContainer at 0x15c7800)>\n"
     ]
    }
   ],
   "source": [
    "print d"
   ]
  },
  {
   "cell_type": "code",
   "execution_count": 32,
   "metadata": {
    "collapsed": true
   },
   "outputs": [],
   "source": [
    "dfields = d.keys_by_name()"
   ]
  },
  {
   "cell_type": "code",
   "execution_count": 33,
   "metadata": {
    "collapsed": false
   },
   "outputs": [
    {
     "name": "stdout",
     "output_type": "stream",
     "text": [
      "('Comment', 'Date', 'Time', 'Temperature', 'Acquistion time', 'File name', 'Bias', 'Direction', 'Z controller Name', 'Z controller on', 'Z controller Setpoint', 'Z controller P-gain', 'Z controller I-gain', 'Z controller T-const')\n"
     ]
    }
   ],
   "source": [
    "print dfields"
   ]
  },
  {
   "cell_type": "code",
   "execution_count": 34,
   "metadata": {
    "collapsed": false
   },
   "outputs": [
    {
     "name": "stdout",
     "output_type": "stream",
     "text": [
      "None\n"
     ]
    }
   ],
   "source": [
    "print d.get_object_by_name('Bias')"
   ]
  },
  {
   "cell_type": "code",
   "execution_count": null,
   "metadata": {
    "collapsed": true
   },
   "outputs": [],
   "source": []
  }
 ],
 "metadata": {
  "kernelspec": {
   "display_name": "Python 2",
   "language": "python",
   "name": "python2"
  },
  "language_info": {
   "codemirror_mode": {
    "name": "ipython",
    "version": 2
   },
   "file_extension": ".py",
   "mimetype": "text/x-python",
   "name": "python",
   "nbconvert_exporter": "python",
   "pygments_lexer": "ipython2",
   "version": "2.7.6"
  }
 },
 "nbformat": 4,
 "nbformat_minor": 0
}
